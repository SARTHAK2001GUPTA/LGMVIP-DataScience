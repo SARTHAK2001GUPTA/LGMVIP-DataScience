{
 "cells": [
  {
   "cell_type": "markdown",
   "id": "6818fa9d",
   "metadata": {},
   "source": [
    "# Image to Pencil Sketch with Python - DS"
   ]
  },
  {
   "cell_type": "code",
   "execution_count": 2,
   "id": "a1423d41",
   "metadata": {},
   "outputs": [],
   "source": [
    "#importing the oprn source vision library\n",
    "import cv2\n"
   ]
  },
  {
   "cell_type": "code",
   "execution_count": 3,
   "id": "d60f848a",
   "metadata": {},
   "outputs": [
    {
     "data": {
      "text/plain": [
       "-1"
      ]
     },
     "execution_count": 3,
     "metadata": {},
     "output_type": "execute_result"
    }
   ],
   "source": [
    "ig = cv2.imread(\"grp.jpg\")\n",
    "cv2.imshow(\"SG\", ig)\n",
    "cv2.waitKey(0)"
   ]
  },
  {
   "cell_type": "code",
   "execution_count": 4,
   "id": "2ac67d07",
   "metadata": {},
   "outputs": [
    {
     "data": {
      "text/plain": [
       "-1"
      ]
     },
     "execution_count": 4,
     "metadata": {},
     "output_type": "execute_result"
    }
   ],
   "source": [
    "gr_img = cv2.cvtColor(ig, cv2.COLOR_BGR2GRAY)\n",
    "cv2.imshow(\"NEW SG\", gr_img)\n",
    "cv2.waitKey(0)"
   ]
  },
  {
   "cell_type": "code",
   "execution_count": 5,
   "id": "bbd038c9",
   "metadata": {},
   "outputs": [
    {
     "data": {
      "text/plain": [
       "13"
      ]
     },
     "execution_count": 5,
     "metadata": {},
     "output_type": "execute_result"
    }
   ],
   "source": [
    "invrtd_img = 255 - gr_img\n",
    "cv2.imshow(\"INVERTED\", invrtd_img)\n",
    "cv2.waitKey(0)"
   ]
  },
  {
   "cell_type": "code",
   "execution_count": 12,
   "id": "49de0be9",
   "metadata": {},
   "outputs": [
    {
     "data": {
      "text/plain": [
       "-1"
      ]
     },
     "execution_count": 12,
     "metadata": {},
     "output_type": "execute_result"
    }
   ],
   "source": [
    "blr = cv2.GaussianBlur(invrtd_img, (21, 21), 0)\n",
    "cv2.imshow(\"Blur\",blr)\n",
    "cv2.waitKey(0)"
   ]
  },
  {
   "cell_type": "code",
   "execution_count": 14,
   "id": "73e78900",
   "metadata": {},
   "outputs": [
    {
     "data": {
      "text/plain": [
       "-1"
      ]
     },
     "execution_count": 14,
     "metadata": {},
     "output_type": "execute_result"
    }
   ],
   "source": [
    "invrtd_blr = 255 - blr\n",
    "cv2.imshow(\"inverted Blur\",invrtd_blr)\n",
    "cv2.waitKey(0)"
   ]
  },
  {
   "cell_type": "code",
   "execution_count": null,
   "id": "d006bcaa",
   "metadata": {},
   "outputs": [],
   "source": [
    "pncl_skh = cv2.divide(gr_img,invrtd_blr, scale=265.0)\n",
    "cv2.imshow(\" Sketch\", pncl_skh)\n",
    "cv2.waitKey(0)"
   ]
  },
  {
   "cell_type": "code",
   "execution_count": null,
   "id": "ae6aa87d",
   "metadata": {},
   "outputs": [],
   "source": []
  }
 ],
 "metadata": {
  "kernelspec": {
   "display_name": "Python 3",
   "language": "python",
   "name": "python3"
  },
  "language_info": {
   "codemirror_mode": {
    "name": "ipython",
    "version": 3
   },
   "file_extension": ".py",
   "mimetype": "text/x-python",
   "name": "python",
   "nbconvert_exporter": "python",
   "pygments_lexer": "ipython3",
   "version": "3.8.8"
  }
 },
 "nbformat": 4,
 "nbformat_minor": 5
}
